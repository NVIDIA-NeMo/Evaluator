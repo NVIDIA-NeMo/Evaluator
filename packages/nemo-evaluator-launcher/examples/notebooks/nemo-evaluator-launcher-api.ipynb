{
 "cells": [
  {
   "cell_type": "markdown",
   "id": "4ce1e70b-b233-4a43-bbe4-d51815bdec23",
   "metadata": {},
   "source": [
    "This a very raw intro into using `nemo_evaluator_launcher` API. \n",
    "\n",
    "Prerequisites:\n",
    "* make sure you have the variables below set (note the API key is _name_ of the key, not value)"
   ]
  },
  {
   "cell_type": "code",
   "execution_count": 1,
   "id": "7b8617f3-6ef4-4330-a0cc-ae3f42b4f225",
   "metadata": {},
   "outputs": [
    {
     "name": "stderr",
     "output_type": "stream",
     "text": [
      "/home/agronskiy/code/nvidia-nemo-eval/packages/nemo-evaluator-launcher/.venv/lib/python3.12/site-packages/tqdm/auto.py:21: TqdmWarning: IProgress not found. Please update jupyter and ipywidgets. See https://ipywidgets.readthedocs.io/en/stable/user_install.html\n",
      "  from .autonotebook import tqdm as notebook_tqdm\n"
     ]
    }
   ],
   "source": [
    "import tempfile\n",
    "\n",
    "from omegaconf import OmegaConf\n",
    "\n",
    "from nemo_evaluator_launcher.api import RunConfig, get_status, get_tasks_list, run_eval\n",
    "\n",
    "MODEL_URL = \"https://integrate.api.nvidia.com/v1/chat/completions\"\n",
    "MODEL_ID = \"nvdev/meta/llama-3.1-8b-instruct\"\n",
    "API_KEY_NAME = \"NGC_API_TOKEN_NV_DEV\""
   ]
  },
  {
   "cell_type": "code",
   "execution_count": 2,
   "id": "d559eedc-e5e0-44c2-81b0-ad0d28b18946",
   "metadata": {},
   "outputs": [
    {
     "data": {
      "text/plain": [
       "[['ifeval',\n",
       "  'chat',\n",
       "  'lm-evaluation-harness',\n",
       "  'nvcr.io/nvidia/eval-factory/lm-evaluation-harness:25.08.1'],\n",
       " ['mmlu_prox',\n",
       "  'chat',\n",
       "  'lm-evaluation-harness',\n",
       "  'nvcr.io/nvidia/eval-factory/lm-evaluation-harness:25.08.1']]"
      ]
     },
     "execution_count": 2,
     "metadata": {},
     "output_type": "execute_result"
    }
   ],
   "source": [
    "# Show an example of getting task list\n",
    "get_tasks_list()[:2]"
   ]
  },
  {
   "cell_type": "code",
   "execution_count": 3,
   "id": "4155615d-7ae4-4843-8624-d85ac79316dd",
   "metadata": {},
   "outputs": [
    {
     "name": "stdout",
     "output_type": "stream",
     "text": [
      "[['ifeval', 'chat', 'lm-evaluation-harness', 'nvcr.io/nvidia/eval-factory/lm-evaluation-harness:25.08.1']]\n"
     ]
    }
   ],
   "source": [
    "# Check we have `ifeval`\n",
    "print([t for t in get_tasks_list() if t[0] == \"ifeval\"])"
   ]
  },
  {
   "cell_type": "code",
   "execution_count": 4,
   "id": "03e1aebf-4c8f-4786-9076-edcaf50c30b0",
   "metadata": {},
   "outputs": [
    {
     "name": "stdout",
     "output_type": "stream",
     "text": [
      "execution:\n",
      "  type: local\n",
      "  output_dir: ???\n",
      "deployment:\n",
      "  type: none\n",
      "target:\n",
      "  api_endpoint:\n",
      "    url: ???\n",
      "    model_id: ???\n",
      "    api_key_name: <YOUR_API_KEY_NAME>\n",
      "evaluation:\n",
      "  tasks: []\n",
      "\n"
     ]
    },
    {
     "name": "stderr",
     "output_type": "stream",
     "text": [
      "/home/agronskiy/code/nvidia-nemo-eval/packages/nemo-evaluator-launcher/.venv/lib/python3.12/site-packages/hydra/_internal/config_loader_impl.py:216: UserWarning: provider=hydra.searchpath in command-line, path=nemo_evaluator_launcher_internal.configs is not available.\n",
      "  warnings.warn(\n"
     ]
    }
   ],
   "source": [
    "# Creating a RunConfig.\n",
    "cfg: RunConfig = RunConfig.from_hydra()\n",
    "print(OmegaConf.to_yaml(cfg))"
   ]
  },
  {
   "cell_type": "code",
   "execution_count": 5,
   "id": "b4623e5a-019a-4822-9130-fc0bb917011b",
   "metadata": {},
   "outputs": [
    {
     "name": "stdout",
     "output_type": "stream",
     "text": [
      "execution:\n",
      "  type: local\n",
      "  output_dir: ???\n",
      "deployment:\n",
      "  type: vllm\n",
      "  image: vllm/vllm-openai:latest\n",
      "  checkpoint_path: ???\n",
      "  served_model_name: ???\n",
      "  port: 8000\n",
      "  tensor_parallel_size: 8\n",
      "  pipeline_parallel_size: 1\n",
      "  data_parallel_size: 1\n",
      "  extra_args: ''\n",
      "  env_vars: {}\n",
      "  endpoints:\n",
      "    chat: /v1/chat/completions\n",
      "    completions: /v1/completions\n",
      "    health: /health\n",
      "  command: vllm serve ${oc.select:deployment.hf_model_handle,/checkpoint} --tensor-parallel-size=${deployment.tensor_parallel_size}\n",
      "    --pipeline-parallel-size=${deployment.pipeline_parallel_size} --data-parallel-size=${deployment.data_parallel_size}\n",
      "    --port ${deployment.port} --trust-remote-code --served-model-name ${deployment.served_model_name}\n",
      "    --enforce-eager --gpu-memory-utilization 0.95 ${deployment.extra_args}\n",
      "target:\n",
      "  api_endpoint:\n",
      "    url: ???\n",
      "    model_id: ???\n",
      "    api_key_name: <YOUR_API_KEY_NAME>\n",
      "evaluation:\n",
      "  tasks: []\n",
      "\n"
     ]
    }
   ],
   "source": [
    "# To show examples of other deployments.\n",
    "# It is strongly recommended to check the default composable configurations under `nemo_evaluator_launcher.configs`.\n",
    "cfg: RunConfig = RunConfig.from_hydra(\n",
    "    hydra_overrides=[\"deployment=vllm\"]\n",
    ")  # Consult the hydra.cc documentation\n",
    "print(OmegaConf.to_yaml(cfg))"
   ]
  },
  {
   "cell_type": "code",
   "execution_count": 7,
   "id": "ee4bc5f7-287f-42bf-a42a-5ba9cba6d3c0",
   "metadata": {},
   "outputs": [
    {
     "name": "stdout",
     "output_type": "stream",
     "text": [
      "execution:\n",
      "  type: local\n",
      "  output_dir: /tmp/tmp7bizusms\n",
      "deployment:\n",
      "  type: none\n",
      "target:\n",
      "  api_endpoint:\n",
      "    url: https://integrate.api.nvidia.com/v1/chat/completions\n",
      "    model_id: nvdev/meta/llama-3.1-8b-instruct\n",
      "    api_key_name: NGC_API_TOKEN_NV_DEV\n",
      "evaluation:\n",
      "  tasks:\n",
      "  - name: ifeval\n",
      "    overrides:\n",
      "      config.params.limit_samples: 2\n",
      "\n"
     ]
    }
   ],
   "source": [
    "# Let's create a config from default, overriding parameters\n",
    "cfg = RunConfig.from_hydra(\n",
    "    # hydra-style overrides mainly will be used via CLI, here just for demonstration\n",
    "    hydra_overrides=[\n",
    "        \"execution.output_dir=\" + tempfile.mkdtemp(),\n",
    "    ],\n",
    "    dict_overrides={\n",
    "        \"target\": {\n",
    "            \"api_endpoint\": {\n",
    "                \"url\": MODEL_URL,\n",
    "                \"model_id\": MODEL_ID,\n",
    "                \"api_key_name\": API_KEY_NAME,\n",
    "            },\n",
    "        },\n",
    "        \"evaluation\": {\n",
    "            \"tasks\": [\n",
    "                {\"name\": \"ifeval\", \"overrides\": {\"config.params.limit_samples\": 2}},\n",
    "            ],\n",
    "        },\n",
    "    },\n",
    ")\n",
    "print(OmegaConf.to_yaml(cfg))"
   ]
  },
  {
   "cell_type": "code",
   "execution_count": 8,
   "id": "abeef2e5-ecd0-43a0-a1f7-01a472a9d6c8",
   "metadata": {},
   "outputs": [
    {
     "name": "stdout",
     "output_type": "stream",
     "text": [
      "\n",
      "Commands for real-time monitoring:\n",
      "  tail -f /tmp/tmp7bizusms/20250918_225011-b33ca541/ifeval/logs/stdout.log\n",
      "\n",
      "Follow all logs for this invocation:\n",
      "  tail -f /tmp/tmp7bizusms/20250918_225011-b33ca541/*/logs/stdout.log\n"
     ]
    }
   ],
   "source": [
    "# Now let's actually run\n",
    "invocation_id = run_eval(cfg=cfg)"
   ]
  },
  {
   "cell_type": "code",
   "execution_count": 16,
   "id": "0ea1a522-9940-4d9b-a596-08cb71f0ba26",
   "metadata": {},
   "outputs": [
    {
     "data": {
      "text/plain": [
       "[{'invocation': 'b33ca541',\n",
       "  'job_id': 'b33ca541.0',\n",
       "  'status': 'success',\n",
       "  'progress': {'progress': None},\n",
       "  'data': {'output_dir': '/tmp/tmp7bizusms/20250918_225011-b33ca541/ifeval',\n",
       "   'container': 'ifeval-20250918_225011_713143',\n",
       "   'eval_image': 'nvcr.io/nvidia/eval-factory/lm-evaluation-harness:25.08.1'}}]"
      ]
     },
     "execution_count": 16,
     "metadata": {},
     "output_type": "execute_result"
    }
   ],
   "source": [
    "# Check status\n",
    "stat = get_status(job_ids=[invocation_id])\n",
    "stat"
   ]
  },
  {
   "cell_type": "code",
   "execution_count": 17,
   "id": "1424cdf8-6f58-48bb-9c33-797859d227c0",
   "metadata": {},
   "outputs": [
    {
     "name": "stdout",
     "output_type": "stream",
     "text": [
      "artifacts  logs  run.sh\n"
     ]
    }
   ],
   "source": [
    "!ls {stat[0][\"data\"][\"output_dir\"]}"
   ]
  },
  {
   "cell_type": "code",
   "execution_count": 18,
   "id": "71101194-4dd0-4eab-be9f-7977de1f5062",
   "metadata": {},
   "outputs": [
    {
     "name": "stdout",
     "output_type": "stream",
     "text": [
      "stage.exit  stage.pre-start  stage.running  stdout.log\n"
     ]
    }
   ],
   "source": [
    "!ls {stat[0][\"data\"][\"output_dir\"]}/logs"
   ]
  },
  {
   "cell_type": "code",
   "execution_count": 19,
   "id": "bfa7b664-829e-4f6a-bda1-890a91100fc8",
   "metadata": {},
   "outputs": [
    {
     "name": "stdout",
     "output_type": "stream",
     "text": [
      "      - config:\n",
      "          html_report_size: 5\n",
      "          report_types:\n",
      "          - html\n",
      "          - json\n",
      "        enabled: true\n",
      "        name: post_eval_report\n",
      "      tracking_requests_stats: true\n",
      "    api_key: API_KEY\n",
      "    model_id: nvdev/meta/llama-3.1-8b-instruct\n",
      "    stream: null\n",
      "    type: chat\n",
      "    url: https://integrate.api.nvidia.com/v1/chat/completions\n",
      "\u001b[0m \u001b[35mlogger\u001b[0m=\u001b[36mnvidia_eval_commons.core.evaluate\u001b[0m\n",
      "Container completed successfully\n"
     ]
    }
   ],
   "source": [
    "!cat {stat[0][\"data\"][\"output_dir\"]}/logs/stdout.log | tail -n 15"
   ]
  },
  {
   "cell_type": "markdown",
   "id": "7868ad4b-10d2-4a7f-916f-80384e208561",
   "metadata": {},
   "source": [
    "### Running with custom config"
   ]
  },
  {
   "cell_type": "code",
   "execution_count": 20,
   "id": "0d61423c-88af-4fc6-9ed8-3844ba1c0fa0",
   "metadata": {},
   "outputs": [
    {
     "name": "stdout",
     "output_type": "stream",
     "text": [
      "execution:\n",
      "  type: local\n",
      "  output_dir: llama_3_1_8b_instruct_results\n",
      "deployment:\n",
      "  type: none\n",
      "target:\n",
      "  api_endpoint:\n",
      "    model_id: meta/llama-3.1-8b-instruct\n",
      "    url: https://integrate.api.nvidia.com/v1/chat/completions\n",
      "    api_key_name: API_KEY\n",
      "evaluation:\n",
      "  overrides:\n",
      "    config.params.request_timeout: 3600\n",
      "    target.api_endpoint.adapter_config.use_reasoning: false\n",
      "    target.api_endpoint.adapter_config.use_system_prompt: true\n",
      "    target.api_endpoint.adapter_config.custom_system_prompt: '\"Think step by step.\"'\n",
      "  tasks:\n",
      "  - name: ifeval\n",
      "  - name: gpqa_diamond\n",
      "    overrides:\n",
      "      config.params.temperature: 0.6\n",
      "      config.params.top_p: 0.95\n",
      "      config.params.max_new_tokens: 8192\n",
      "      config.params.parallelism: 32\n",
      "    env_vars:\n",
      "      HF_TOKEN: HF_TOKEN_FOR_GPQA_DIAMOND\n",
      "  - name: mbpp\n",
      "    overrides:\n",
      "      config.params.temperature: 0.2\n",
      "      config.params.top_p: 0.95\n",
      "      config.params.max_new_tokens: 2048\n",
      "      config.params.extra.n_samples: 5\n",
      "      config.params.parallelism: 32\n",
      "      target.api_endpoint.adapter_config.custom_system_prompt: '\"You must only provide\n",
      "        the code implementation\"'\n",
      "\n"
     ]
    },
    {
     "name": "stderr",
     "output_type": "stream",
     "text": [
      "/home/agronskiy/code/nvidia-nemo-eval/packages/nemo-evaluator-launcher/.venv/lib/python3.12/site-packages/hydra/_internal/config_loader_impl.py:216: UserWarning: provider=hydra.searchpath in command-line, path=nemo_evaluator_launcher_internal.configs is not available.\n",
      "  warnings.warn(\n"
     ]
    }
   ],
   "source": [
    "# Let's use the example one\n",
    "EXAMPLE_FOLDER = \"./examples\"\n",
    "cfg: RunConfig = RunConfig.from_hydra(\n",
    "    config_dir=\"../\", config_name=\"local_llama_3_1_8b_instruct\"\n",
    ")\n",
    "print(OmegaConf.to_yaml(cfg))"
   ]
  },
  {
   "cell_type": "code",
   "execution_count": null,
   "id": "4d6bc4c2-f0e3-4a46-8b77-265bc99c8981",
   "metadata": {},
   "outputs": [],
   "source": []
  }
 ],
 "metadata": {
  "kernelspec": {
   "display_name": "Python 3 (ipykernel)",
   "language": "python",
   "name": "python3"
  },
  "language_info": {
   "codemirror_mode": {
    "name": "ipython",
    "version": 3
   },
   "file_extension": ".py",
   "mimetype": "text/x-python",
   "name": "python",
   "nbconvert_exporter": "python",
   "pygments_lexer": "ipython3",
   "version": "3.12.3"
  }
 },
 "nbformat": 4,
 "nbformat_minor": 5
}
